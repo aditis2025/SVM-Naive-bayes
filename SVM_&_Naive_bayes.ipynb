{
  "nbformat": 4,
  "nbformat_minor": 0,
  "metadata": {
    "colab": {
      "provenance": []
    },
    "kernelspec": {
      "name": "python3",
      "display_name": "Python 3"
    },
    "language_info": {
      "name": "python"
    }
  },
  "cells": [
    {
      "cell_type": "markdown",
      "source": [
        "**Theoretical**"
      ],
      "metadata": {
        "id": "bJQ9aArFSX4l"
      }
    },
    {
      "cell_type": "markdown",
      "source": [
        "1. What is a Support Vector Machine (SVM)?  \n",
        "   A Support Vector Machine (SVM) is a supervised machine learning algorithm used for classification, regression, and outlier detection tasks. It is particularly powerful for binary classification problems.  \n",
        "   SVM aims to find the best decision boundary (hyperplane) that separates data points of different classes with the maximum margin.  \n",
        "   Hyperplane: A decision boundary that separates data into different classes.  \n",
        "   Margin: The distance between the hyperplane and the closest data points (called support vectors).  \n",
        "   Support Vectors: The data points that lie closest to the decision boundary and influence its position."
      ],
      "metadata": {
        "id": "HSzRsWyfSX1C"
      }
    },
    {
      "cell_type": "markdown",
      "source": [
        "2. What is the difference between Hard Margin and Soft Margin SVM?  \n",
        "   The main difference between Hard Margin and Soft Margin Support Vector Machines (SVM) lies in how strictly they separate the data and handle misclassifications. A Hard Margin SVM assumes that the data is perfectly linearly separable and does not allow any misclassification or overlap between classes. It finds a hyperplane that separates the data with the maximum possible margin without any tolerance for error. However, this makes Hard Margin SVM very sensitive to noise and outliers, as even a single misclassified point can make the model fail. On the other hand, a Soft Margin SVM allows some flexibility by permitting a few misclassifications to achieve better generalization on unseen data. It introduces a regularization parameter C that controls the trade-off between maximizing the margin and minimizing classification errors. A lower value of C allows a wider margin with more tolerance to errors, while a higher value of C behaves more like a hard margin by strictly penalizing misclassifications. In practice, Soft Margin SVM is more commonly used because real-world datasets often contain noise and are not perfectly separable.\n",
        "\n",
        "\n",
        "\n",
        "\n",
        "\n",
        "\n",
        "\n",
        "\n",
        "\n"
      ],
      "metadata": {
        "id": "sL3LwsgOSXyv"
      }
    },
    {
      "cell_type": "markdown",
      "source": [
        "3. What is the mathematical intuition behind SVM?  \n",
        "   The mathematical intuition behind Support Vector Machine (SVM) is based on the idea of finding the optimal hyperplane that best separates data points of different classes by maximizing the margin between them.  \n",
        "   1. Hyperplane: In an n-dimensional space, a hyperplane is an (n−1)-dimensional flat surface that separates the space into two halves.  \n",
        "   2. Margin: The margin is the distance between the hyperplane and the closest data points from either class, known as support vectors. SVM aims to maximize this margin to ensure better generalization.  \n"
      ],
      "metadata": {
        "id": "LkGJQfsqSXwd"
      }
    },
    {
      "cell_type": "markdown",
      "source": [
        "4. What is the role of Lagrange Multipliers in SVM?\n",
        "   The role of Lagrange multipliers in SVM is to help solve the constrained optimization problem involved in finding the optimal hyperplane. Specifically, they are used to convert the problem of maximizing the margin (subject to classification constraints) into a form that is easier to solve using calculus and optimization techniques."
      ],
      "metadata": {
        "id": "-CS5Me3nSXuO"
      }
    },
    {
      "cell_type": "markdown",
      "source": [
        "5. What are Support Vectors in SVM?  \n",
        "   In Support Vector Machine (SVM), support vectors are the critical data points that lie closest to the decision boundary (or hyperplane) and directly influence its position and orientation. These points are the ones that lie on or within the margin boundaries, and they are the most difficult to classify because they are the closest to the opposite class.  \n",
        "   Mathematically, support vectors are the training examples for which the Lagrange multipliers\n",
        "𝛼\n",
        "𝑖\n",
        "α\n",
        "i\n",
        "​\n",
        "  are non-zero in the dual optimization problem. In simpler terms, these are the only data points that affect the final decision boundary — all other points are irrelevant once the model is trained. In the case of hard margin SVM, support vectors lie exactly on the margin, while in soft margin SVM, they can lie inside the margin or even be misclassified. The SVM model depends only on these support vectors, which makes it memory-efficient and robust, especially in high-dimensional spaces. Essentially, support vectors are the \"boundary cases\" that define how the classes are separated, and removing or altering them would change the model's decision boundary.\n",
        "   "
      ],
      "metadata": {
        "id": "Jzz9SLo5SXsC"
      }
    },
    {
      "cell_type": "markdown",
      "source": [
        "6.  What is a Support Vector Classifier (SVC)?  \n",
        "   A Support Vector Classifier (SVC) is the practical implementation of the Support Vector Machine (SVM) algorithm specifically designed for classification tasks. It aims to find the best decision boundary — or hyperplane — that separates data points of different classes with the maximum possible margin. SVC works by identifying a subset of training data points called support vectors, which lie closest to the boundary and are most critical in determining its position.  \n",
        "   If the data is linearly separable, SVC finds a straight hyperplane that perfectly divides the classes. When the data is not linearly separable, it uses a soft margin approach that allows some misclassifications, controlled by a parameter C that balances margin width and classification error. For even more complex data distributions, SVC can apply the kernel trick, which transforms the data into a higher-dimensional space where a linear separator can exist. Common kernels include linear, polynomial, and radial basis function (RBF)."
      ],
      "metadata": {
        "id": "k25A2SI6SXp2"
      }
    },
    {
      "cell_type": "markdown",
      "source": [
        "7. What is a Support Vector Regressor (SVR)?  \n",
        "  A Support Vector Regressor (SVR) is the regression counterpart of Support Vector Machine (SVM), designed to predict continuous values rather than classify data. Instead of finding a hyperplane that separates classes, SVR tries to find a function (or line in 2D) that best fits the data, while maintaining a margin of tolerance\n",
        "𝜖\n",
        "ϵ around the predicted values.  \n",
        "The core idea behind SVR is to ensure that predictions lie within an acceptable epsilon-tube around the true values — meaning, errors smaller than\n",
        "𝜖\n",
        "ϵ are ignored. However, for data points outside this margin, SVR introduces slack variables and penalizes them using a regularization parameter C, which controls the trade-off between model complexity and tolerance to deviations. Just like in classification, SVR uses support vectors, which are the data points lying outside the\n",
        "𝜖\n",
        "ϵ-margin or on its boundary — these points influence the regression function the most."
      ],
      "metadata": {
        "id": "I5cVdHOpSXnl"
      }
    },
    {
      "cell_type": "markdown",
      "source": [
        "8. What is the Kernel Trick in SVM?  \n",
        "   The Kernel Trick in Support Vector Machine (SVM) is a mathematical technique that allows SVM to handle non-linearly separable data by implicitly mapping it into a higher-dimensional feature space without actually performing the transformation.  \n",
        "   In many real-world problems, data is not linearly separable in its original form — meaning a straight line (or hyperplane) cannot perfectly separate the classes. To solve this, SVM can project the data into a higher-dimensional space where a linear separator does exist. However, explicitly computing this transformation can be computationally expensive or even impossible, especially when the new space has a very high or infinite number of dimensions. This is where the Kernel Trick comes in. Instead of transforming the data, the kernel trick uses a kernel function that directly computes the dot product of the transformed feature vectors in the higher-dimensional space — all while staying in the original space. This saves both time and memory. Popular kernel functions include the Linear kernel, Polynomial kernel, and Radial Basis Function (RBF) kernel. By using kernels, SVM becomes capable of solving complex, non-linear problems efficiently, without ever explicitly performing the high-dimensional mapping. In essence, the kernel trick enables SVM to learn non-linear decision boundaries with the mathematical convenience of linear computation."
      ],
      "metadata": {
        "id": "pc9JVanRSXlW"
      }
    },
    {
      "cell_type": "markdown",
      "source": [
        "9.  Compare Linear Kernel, Polynomial Kernel, and RBF Kernel  \n",
        "    The Linear kernel is the simplest and most interpretable kernel in SVM. It is used when the data is linearly separable, meaning a straight line (or hyperplane in higher dimensions) can divide the classes effectively. The Linear kernel computes the dot product between feature vectors, and is ideal for high-dimensional, sparse data like text classification. On the other hand, the Polynomial kernel allows for more complex decision boundaries by introducing interactions between features. It raises the dot product of input vectors to a specified power (degree), enabling the model to capture curved relationships between classes. The degree of the polynomial controls the flexibility — higher degrees create more complex boundaries, but may also lead to overfitting. Finally, the RBF kernel, also known as the Gaussian kernel, is the most commonly used for non-linear problems. It measures the similarity between points based on their distance and can model very complex relationships by mapping data to an infinite-dimensional space. The RBF kernel has a parameter\n",
        "𝛾\n",
        "γ, which controls how far the influence of a single training example reaches: smaller values result in smoother decision boundaries, while larger values lead to more flexible (and possibly overfit) models. In summary, use a Linear kernel for simple, linearly separable data; a Polynomial kernel for moderate complexity with known feature interactions; and an RBF kernel when you need a powerful, flexible model to handle complex, non-linear patterns.\n",
        "\n",
        "\n"
      ],
      "metadata": {
        "id": "23nene0LSXjK"
      }
    },
    {
      "cell_type": "markdown",
      "source": [
        "10. What is the effect of the C parameter in SVM?  \n",
        "    The C parameter in Support Vector Machine (SVM) is a regularization parameter that controls the trade-off between maximizing the margin and minimizing classification error. It plays a crucial role in how flexible or strict the model is when fitting the training data.\n",
        "\n"
      ],
      "metadata": {
        "id": "kKuCXLEhSXhE"
      }
    },
    {
      "cell_type": "markdown",
      "source": [
        "11. What is the role of the Gamma parameter in RBF Kernel SVM?  \n",
        "    In an SVM model using the RBF kernel, the gamma parameter determines how far the influence of a single training point reaches. A low gamma value means that each point has a large radius of influence, resulting in a smoother, simpler decision boundary that considers broader patterns in the data. This can lead to underfitting if the model becomes too generalized. In contrast, a high gamma value means that the influence of each point is very limited, causing the decision boundary to be tightly fitted around the training data. While this may reduce training error, it increases the risk of overfitting, as the model becomes sensitive to noise and minor fluctuations in the data. In summary, gamma controls the complexity of the boundary in RBF SVM: low gamma = broader, simpler boundary (high bias), and high gamma = tighter, more complex boundary (high variance). Proper tuning of gamma (often alongside C) is crucial to achieving good generalization performance.\n",
        "\n",
        "\n",
        "\n",
        "\n",
        "\n",
        "\n",
        "\n",
        "\n",
        "\n"
      ],
      "metadata": {
        "id": "KQdx0ojASXe-"
      }
    },
    {
      "cell_type": "markdown",
      "source": [
        "12. What is the Naïve Bayes classifier, and why is it called \"Naïve\"?  \n",
        "    The Naïve Bayes classifier is a probabilistic machine learning algorithm based on Bayes’ Theorem, used primarily for classification tasks. It predicts the probability that a data point belongs to a particular class based on its features. The algorithm is especially popular in applications like spam filtering, text classification, and sentiment analysis due to its simplicity and efficiency.  \n",
        "    Why it's called \"Naïve\": The classifier is called \"Naïve\" because it assumes that all features are independent of each other, given the class label. In reality, this assumption is often not true — features usually have some degree of correlation — but the algorithm still works surprisingly well in many practical cases. This strong and unrealistic independence assumption is what makes it \"naïve\"."
      ],
      "metadata": {
        "id": "sPVXNTy1SXcx"
      }
    },
    {
      "cell_type": "markdown",
      "source": [
        "13. What is Bayes’ Theorem?  \n",
        "    Bayes’ Theorem is a fundamental concept in probability theory that describes how to update the probability of a hypothesis based on new evidence or information. It provides a mathematical way to combine prior knowledge with new data to make more informed predictions or decisions.\n",
        "\n"
      ],
      "metadata": {
        "id": "iaffsZ8JSXaY"
      }
    },
    {
      "cell_type": "markdown",
      "source": [
        "14.  Explain the differences between Gaussian Naïve Bayes, Multinomial Naïve Bayes, and Bernoulli Naïve Bayes.  \n",
        "    Gaussian Naïve Bayes is used when the features are continuous and are assumed to follow a normal (Gaussian) distribution. It’s suitable for datasets where the input features are real-valued, such as height, weight, or age. This model calculates the likelihood of each feature using the probability density function of the Gaussian distribution. On the other hand, Multinomial Naïve Bayes is designed for discrete or count data, particularly in text classification tasks such as spam filtering or document categorization. It assumes that features represent the frequency or count of events (e.g., word counts in a document), and it models the data using the multinomial distribution. Lastly, Bernoulli Naïve Bayes is also used for text data, but it is appropriate when features are binary — that is, each feature indicates only the presence or absence of a term, not its frequency. This model assumes that all features are binary-valued and uses the Bernoulli distribution to estimate probabilities. In summary, Gaussian NB is for continuous features, Multinomial NB is for count-based features, and Bernoulli NB is for binary features — and choosing the right one depends on the nature of your dataset.\n",
        "\n"
      ],
      "metadata": {
        "id": "FC4hiODgbOvG"
      }
    },
    {
      "cell_type": "markdown",
      "source": [
        "15. When should you use Gaussian Naïve Bayes over other variants?   \n",
        "    Use Gaussian Naïve Bayes when your features are continuous and approximately follow a normal (bell-shaped) distribution. It’s ideal for datasets like medical measurements, sensor readings, or real-valued numerical features. Unlike Multinomial or Bernoulli variants, it doesn't rely on word counts or binary values. It's fast, simple, and works well even with small datasets. Avoid it if your features are categorical or highly skewed.\n",
        "\n",
        "\n",
        "\n",
        "\n",
        "\n",
        "\n",
        "\n",
        "\n",
        "\n"
      ],
      "metadata": {
        "id": "--_UNlLbbOrh"
      }
    },
    {
      "cell_type": "markdown",
      "source": [
        "16. What are the key assumptions made by Naïve Bayes?  \n",
        "    The Naïve Bayes algorithm makes the following key assumptions:  \n",
        "    1. Feature Independence: All features are conditionally independent given the class label (this is the \"naïve\" part).  \n",
        "    2. Equal Contribution: Each feature contributes equally and independently to the outcome.   \n",
        "    3. Correct Distribution Assumption:Gaussian for continuous features (Gaussian NB), Multinomial for count data (Multinomial NB), Bernoulli for binary features (Bernoulli NB)  \n",
        "    4. No Missing Values: The model assumes no missing data in features."
      ],
      "metadata": {
        "id": "kfjhmpE3bOpY"
      }
    },
    {
      "cell_type": "markdown",
      "source": [
        "17. What are the advantages and disadvantages of Naïve Bayes?  \n",
        "    Advantages:  \n",
        "    1. Simple and Fast: Easy to implement and very fast to train and predict, even on large datasets  \n",
        "    2. Works Well with High-Dimensional Data: Especially effective for text classification problems like spam detection or sentiment analysis.  \n",
        "    3. Performs Well with Small Data: Requires less training data to estimate parameters.  \n",
        "    4. Handles Irrelevant Features Well: Due to its independence assumption, it’s less affected by irrelevant features.  \n",
        "\n",
        "    Disadvantages:  \n",
        "    1. Strong Independence Assumption: Assumes all features are independent given the class, which is rarely true in real-world data.  \n",
        "    2. Poor with Correlated Features: Performance degrades when features are highly correlated.  \n",
        "    3. Zero Probability Problem: If a categorical variable has a category not seen in training, it assigns zero probability (can be fixed with smoothing).  \n",
        "    4. Not Good for Continuous Data Without Gaussian Assumption: Requires careful preprocessing if the data doesn’t follow the assumed distribution."
      ],
      "metadata": {
        "id": "YDwhC4TlbOnU"
      }
    },
    {
      "cell_type": "markdown",
      "source": [
        "18. Why is Naïve Bayes a good choice for text classification?  \n",
        "    Naïve Bayes is a good choice for text classification because it is fast, simple, and highly effective for high-dimensional, sparse datasets like text. In text classification, such as spam detection or sentiment analysis, each word becomes a feature, resulting in thousands of features per document. Naïve Bayes handles this efficiently due to its feature independence assumption, which simplifies computations. It works well even with small amounts of training data, is robust to irrelevant features, and performs surprisingly well despite the assumption that words (features) are independent — which is not entirely true but acceptable for classification accuracy. Its performance, scalability, and ease of implementation make it a strong baseline for many NLP tasks.\n",
        "\n",
        "\n",
        "\n",
        "\n",
        "\n",
        "\n",
        "\n",
        "\n",
        "\n"
      ],
      "metadata": {
        "id": "26XwylOMbOlB"
      }
    },
    {
      "cell_type": "markdown",
      "source": [
        "19. Compare SVM and Naïve Bayes for classification tasks?  \n",
        "    Support Vector Machine (SVM) and Naïve Bayes (NB) are both powerful classifiers, but they differ significantly in how they model and handle data. SVM is a discriminative model that focuses on finding the optimal decision boundary (hyperplane) that separates classes with the maximum margin. It’s highly effective for complex, high-dimensional and non-linear data, especially with the use of kernel functions, but can be computationally intensive. In contrast, Naïve Bayes is a generative model that applies Bayes’ Theorem with a strong (naïve) assumption of feature independence. It is extremely fast, scales well with large and sparse datasets (like text), and performs surprisingly well in many real-world applications, even when the independence assumption is violated. While SVM generally offers higher accuracy for balanced, clean datasets, Naïve Bayes is more efficient and is often the preferred choice for text classification and early baseline models.\n",
        "\n"
      ],
      "metadata": {
        "id": "yrXBgpb0bOi8"
      }
    },
    {
      "cell_type": "markdown",
      "source": [
        "20.  How does Laplace Smoothing help in Naïve Bayes?  \n",
        "    In Naïve Bayes, if a word has zero frequency in the training set for a class, its probability becomes zero, and the entire class probability becomes zero due to multiplication. Laplace Smoothing solves this by adding a small value (usually 1) to all feature counts, ensuring no probability is zero. This allows the model to handle unseen words gracefully and improves generalization, especially in text classification tasks with large vocabularies. It helps Naïve Bayes remain robust even with limited or sparse data.\n",
        "\n",
        "\n",
        "\n",
        "\n",
        "\n",
        "\n",
        "\n",
        "\n",
        "\n"
      ],
      "metadata": {
        "id": "aalMQ_yibOgp"
      }
    },
    {
      "cell_type": "markdown",
      "source": [
        "**Practical**"
      ],
      "metadata": {
        "id": "1-cDDMBidDq1"
      }
    },
    {
      "cell_type": "code",
      "execution_count": 1,
      "metadata": {
        "colab": {
          "base_uri": "https://localhost:8080/"
        },
        "id": "xysVYGk4SK1B",
        "outputId": "65486aa8-ad9a-429c-e559-31d3b53e907a"
      },
      "outputs": [
        {
          "output_type": "stream",
          "name": "stdout",
          "text": [
            "SVM Classifier Accuracy on Iris Dataset: 1.00\n"
          ]
        }
      ],
      "source": [
        "#21 Write a Python program to train an SVM Classifier on the Iris dataset and evaluate accuracy\n",
        "# Import necessary libraries\n",
        "from sklearn import datasets\n",
        "from sklearn.model_selection import train_test_split\n",
        "from sklearn.svm import SVC\n",
        "from sklearn.metrics import accuracy_score\n",
        "\n",
        "# Load the Iris dataset\n",
        "iris = datasets.load_iris()\n",
        "X = iris.data       # Features\n",
        "y = iris.target     # Labels\n",
        "\n",
        "# Split data into training and testing sets (80% train, 20% test)\n",
        "X_train, X_test, y_train, y_test = train_test_split(X, y, test_size=0.2, random_state=42)\n",
        "\n",
        "# Initialize the SVM classifier (with default RBF kernel)\n",
        "svm_model = SVC()\n",
        "\n",
        "# Train the model\n",
        "svm_model.fit(X_train, y_train)\n",
        "\n",
        "# Predict on the test set\n",
        "y_pred = svm_model.predict(X_test)\n",
        "\n",
        "# Evaluate accuracy\n",
        "accuracy = accuracy_score(y_test, y_pred)\n",
        "print(f\"SVM Classifier Accuracy on Iris Dataset: {accuracy:.2f}\")"
      ]
    },
    {
      "cell_type": "code",
      "source": [
        "#22 Write a Python program to train two SVM classifiers with Linear and RBF kernels on the Wine dataset, then compare their accuracies\n",
        "# Import necessary libraries\n",
        "from sklearn import datasets\n",
        "from sklearn.model_selection import train_test_split\n",
        "from sklearn.svm import SVC\n",
        "from sklearn.metrics import accuracy_score\n",
        "\n",
        "# Load the Wine dataset\n",
        "wine = datasets.load_wine()\n",
        "X = wine.data\n",
        "y = wine.target\n",
        "\n",
        "# Split data into training and testing sets (80% train, 20% test)\n",
        "X_train, X_test, y_train, y_test = train_test_split(X, y, test_size=0.2, random_state=42)\n",
        "\n",
        "# Initialize SVM classifiers\n",
        "svm_linear = SVC(kernel='linear')\n",
        "svm_rbf = SVC(kernel='rbf')\n",
        "\n",
        "# Train both classifiers\n",
        "svm_linear.fit(X_train, y_train)\n",
        "svm_rbf.fit(X_train, y_train)\n",
        "\n",
        "# Predict and evaluate\n",
        "y_pred_linear = svm_linear.predict(X_test)\n",
        "y_pred_rbf = svm_rbf.predict(X_test)\n",
        "\n",
        "accuracy_linear = accuracy_score(y_test, y_pred_linear)\n",
        "accuracy_rbf = accuracy_score(y_test, y_pred_rbf)\n",
        "\n",
        "# Print results\n",
        "print(f\"SVM with Linear Kernel Accuracy: {accuracy_linear:.2f}\")\n",
        "print(f\"SVM with RBF Kernel Accuracy: {accuracy_rbf:.2f}\")\n",
        "\n",
        "# Optional: show which performed better\n",
        "if accuracy_linear > accuracy_rbf:\n",
        "    print(\"Linear kernel performed better.\")\n",
        "elif accuracy_rbf > accuracy_linear:\n",
        "    print(\"RBF kernel performed better.\")\n",
        "else:\n",
        "    print(\"Both kernels performed equally.\")"
      ],
      "metadata": {
        "colab": {
          "base_uri": "https://localhost:8080/"
        },
        "id": "_2gY5Ps8dZAa",
        "outputId": "cda8b83f-c2b6-4b1a-99a4-6a4b3b1efc5e"
      },
      "execution_count": 2,
      "outputs": [
        {
          "output_type": "stream",
          "name": "stdout",
          "text": [
            "SVM with Linear Kernel Accuracy: 1.00\n",
            "SVM with RBF Kernel Accuracy: 0.81\n",
            "Linear kernel performed better.\n"
          ]
        }
      ]
    },
    {
      "cell_type": "code",
      "source": [
        "#23 Write a Python program to train an SVM Regressor (SVR) on a housing dataset and evaluate it using Mean Squared Error (MSE)\n",
        "# Import necessary libraries\n",
        "from sklearn.datasets import fetch_california_housing\n",
        "from sklearn.model_selection import train_test_split\n",
        "from sklearn.svm import SVR\n",
        "from sklearn.metrics import mean_squared_error\n",
        "from sklearn.preprocessing import StandardScaler\n",
        "\n",
        "# Load the California Housing dataset\n",
        "housing = fetch_california_housing()\n",
        "X = housing.data\n",
        "y = housing.target\n",
        "\n",
        "# Split the dataset (80% training, 20% testing)\n",
        "X_train, X_test, y_train, y_test = train_test_split(X, y, test_size=0.2, random_state=42)\n",
        "\n",
        "# Scale the features (important for SVR)\n",
        "scaler = StandardScaler()\n",
        "X_train_scaled = scaler.fit_transform(X_train)\n",
        "X_test_scaled = scaler.transform(X_test)\n",
        "\n",
        "# Initialize and train the SVR model\n",
        "svr = SVR(kernel='rbf')\n",
        "svr.fit(X_train_scaled, y_train)\n",
        "\n",
        "# Predict on the test set\n",
        "y_pred = svr.predict(X_test_scaled)\n",
        "\n",
        "# Evaluate using Mean Squared Error\n",
        "mse = mean_squared_error(y_test, y_pred)\n",
        "print(f\"SVR Mean Squared Error on Housing Dataset: {mse:.2f}\")"
      ],
      "metadata": {
        "colab": {
          "base_uri": "https://localhost:8080/"
        },
        "id": "f3s7-TnRdjDG",
        "outputId": "ab52dd72-f6e0-450f-842e-7f8458bb65e1"
      },
      "execution_count": 3,
      "outputs": [
        {
          "output_type": "stream",
          "name": "stdout",
          "text": [
            "SVR Mean Squared Error on Housing Dataset: 0.36\n"
          ]
        }
      ]
    },
    {
      "cell_type": "code",
      "source": [
        "#24 Write a Python program to train an SVM Classifier with a Polynomial Kernel and visualize the decision boundary\n",
        "import numpy as np\n",
        "import matplotlib.pyplot as plt\n",
        "from sklearn import datasets\n",
        "from sklearn.svm import SVC\n",
        "from sklearn.preprocessing import StandardScaler\n",
        "\n",
        "# Load a simple 2D dataset (we'll use only two features from Iris for visualization)\n",
        "iris = datasets.load_iris()\n",
        "X = iris.data[:, :2]  # Use only the first two features (sepal length and width)\n",
        "y = iris.target\n",
        "\n",
        "# Use only two classes for binary classification (e.g., class 0 and 1)\n",
        "X = X[y != 2]\n",
        "y = y[y != 2]\n",
        "\n",
        "# Scale the features\n",
        "scaler = StandardScaler()\n",
        "X_scaled = scaler.fit_transform(X)\n",
        "\n",
        "# Train SVM with Polynomial Kernel\n",
        "svm_poly = SVC(kernel='poly', degree=3, C=1.0)\n",
        "svm_poly.fit(X_scaled, y)\n",
        "\n",
        "# Create mesh grid for plotting decision boundary\n",
        "x_min, x_max = X_scaled[:, 0].min() - 1, X_scaled[:, 0].max() + 1\n",
        "y_min, y_max = X_scaled[:, 1].min() - 1, X_scaled[:, 1].max() + 1\n",
        "xx, yy = np.meshgrid(np.linspace(x_min, x_max, 500),\n",
        "                     np.linspace(y_min, y_max, 500))\n",
        "\n",
        "# Predict over the mesh grid\n",
        "Z = svm_poly.predict(np.c_[xx.ravel(), yy.ravel()])\n",
        "Z = Z.reshape(xx.shape)\n",
        "\n",
        "# Plotting the decision boundary\n",
        "plt.contourf(xx, yy, Z, cmap=plt.cm.coolwarm, alpha=0.6)\n",
        "plt.scatter(X_scaled[:, 0], X_scaled[:, 1], c=y, cmap=plt.cm.coolwarm, edgecolors='k')\n",
        "plt.title(\"SVM with Polynomial Kernel (degree=3)\")\n",
        "plt.xlabel(\"Sepal Length (scaled)\")\n",
        "plt.ylabel(\"Sepal Width (scaled)\")\n",
        "plt.grid(True)\n",
        "plt.show()"
      ],
      "metadata": {
        "colab": {
          "base_uri": "https://localhost:8080/",
          "height": 472
        },
        "id": "QptPIH9Vdttx",
        "outputId": "87212768-6daf-4e92-9b9f-7e021f43d0d0"
      },
      "execution_count": 4,
      "outputs": [
        {
          "output_type": "display_data",
          "data": {
            "text/plain": [
              "<Figure size 640x480 with 1 Axes>"
            ],
            "image/png": "[encoded data removed]"
          },
          "metadata": {}
        }
      ]
    },
    {
      "cell_type": "code",
      "source": [
        "#25 Write a Python program to train a Gaussian Naïve Bayes classifier on the Breast Cancer dataset and evaluate accuracy\n",
        "# Import necessary libraries\n",
        "from sklearn.datasets import load_breast_cancer\n",
        "from sklearn.model_selection import train_test_split\n",
        "from sklearn.naive_bayes import GaussianNB\n",
        "from sklearn.metrics import accuracy_score\n",
        "\n",
        "# Load the Breast Cancer dataset\n",
        "data = load_breast_cancer()\n",
        "X = data.data\n",
        "y = data.target\n",
        "\n",
        "# Split the data (80% training, 20% testing)\n",
        "X_train, X_test, y_train, y_test = train_test_split(X, y, test_size=0.2, random_state=42)\n",
        "\n",
        "# Initialize and train the Gaussian Naïve Bayes classifier\n",
        "gnb = GaussianNB()\n",
        "gnb.fit(X_train, y_train)\n",
        "\n",
        "# Predict on the test set\n",
        "y_pred = gnb.predict(X_test)\n",
        "\n",
        "# Evaluate accuracy\n",
        "accuracy = accuracy_score(y_test, y_pred)\n",
        "print(f\"Gaussian Naïve Bayes Accuracy on Breast Cancer Dataset: {accuracy:.2f}\")"
      ],
      "metadata": {
        "colab": {
          "base_uri": "https://localhost:8080/"
        },
        "id": "zsvClhuOd5ey",
        "outputId": "bcc2d254-455f-4cea-fc81-e7c1645114f1"
      },
      "execution_count": 5,
      "outputs": [
        {
          "output_type": "stream",
          "name": "stdout",
          "text": [
            "Gaussian Naïve Bayes Accuracy on Breast Cancer Dataset: 0.97\n"
          ]
        }
      ]
    },
    {
      "cell_type": "code",
      "source": [
        "#26 Write a Python program to train a Multinomial Naïve Bayes classifier for text classification using the 20 Newsgroups dataset\n",
        "# Import necessary libraries\n",
        "from sklearn.datasets import fetch_20newsgroups\n",
        "from sklearn.feature_extraction.text import CountVectorizer\n",
        "from sklearn.naive_bayes import MultinomialNB\n",
        "from sklearn.model_selection import train_test_split\n",
        "from sklearn.metrics import accuracy_score, classification_report\n",
        "\n",
        "# Load the dataset (use a subset of categories for faster training)\n",
        "categories = ['sci.space', 'rec.sport.baseball', 'comp.graphics', 'talk.politics.mideast']\n",
        "newsgroups = fetch_20newsgroups(subset='all', categories=categories, remove=('headers', 'footers', 'quotes'))\n",
        "\n",
        "# Convert text to feature vectors using CountVectorizer\n",
        "vectorizer = CountVectorizer(stop_words='english')\n",
        "X = vectorizer.fit_transform(newsgroups.data)\n",
        "y = newsgroups.target\n",
        "\n",
        "# Split the dataset (80% training, 20% testing)\n",
        "X_train, X_test, y_train, y_test = train_test_split(X, y, test_size=0.2, random_state=42)\n",
        "\n",
        "# Train the Multinomial Naïve Bayes classifier\n",
        "nb_classifier = MultinomialNB()\n",
        "nb_classifier.fit(X_train, y_train)\n",
        "\n",
        "# Predict on the test set\n",
        "y_pred = nb_classifier.predict(X_test)\n",
        "\n",
        "# Evaluate accuracy and print classification report\n",
        "accuracy = accuracy_score(y_test, y_pred)\n",
        "print(f\"Multinomial Naïve Bayes Accuracy: {accuracy:.2f}\")\n",
        "print(\"\\nClassification Report:\\n\")\n",
        "print(classification_report(y_test, y_pred, target_names=newsgroups.target_names))"
      ],
      "metadata": {
        "colab": {
          "base_uri": "https://localhost:8080/"
        },
        "id": "_iZeIPBieCXy",
        "outputId": "62cd3232-0508-488c-a033-0c685a8abbd4"
      },
      "execution_count": 6,
      "outputs": [
        {
          "output_type": "stream",
          "name": "stdout",
          "text": [
            "Multinomial Naïve Bayes Accuracy: 0.90\n",
            "\n",
            "Classification Report:\n",
            "\n",
            "                       precision    recall  f1-score   support\n",
            "\n",
            "        comp.graphics       0.92      0.89      0.91       220\n",
            "   rec.sport.baseball       0.84      0.93      0.88       178\n",
            "            sci.space       0.91      0.85      0.88       189\n",
            "talk.politics.mideast       0.93      0.93      0.93       192\n",
            "\n",
            "             accuracy                           0.90       779\n",
            "            macro avg       0.90      0.90      0.90       779\n",
            "         weighted avg       0.90      0.90      0.90       779\n",
            "\n"
          ]
        }
      ]
    },
    {
      "cell_type": "code",
      "source": [
        "#27 Write a Python program to train an SVM Classifier with different C values and compare the decision boundaries visually\n",
        "import numpy as np\n",
        "import matplotlib.pyplot as plt\n",
        "from sklearn import datasets\n",
        "from sklearn.svm import SVC\n",
        "from sklearn.preprocessing import StandardScaler\n",
        "\n",
        "# Load Iris dataset and select only 2 classes and 2 features\n",
        "iris = datasets.load_iris()\n",
        "X = iris.data[:, :2]  # use sepal length and width\n",
        "y = iris.target\n",
        "\n",
        "# For binary classification (class 0 and 1)\n",
        "X = X[y != 2]\n",
        "y = y[y != 2]\n",
        "\n",
        "# Standardize features\n",
        "scaler = StandardScaler()\n",
        "X_scaled = scaler.fit_transform(X)\n",
        "\n",
        "# Define different C values\n",
        "C_values = [0.01, 0.1, 1, 10, 100]\n",
        "\n",
        "# Create subplots\n",
        "plt.figure(figsize=(15, 10))\n",
        "\n",
        "for i, C in enumerate(C_values):\n",
        "    # Train SVM model with linear kernel and given C\n",
        "    model = SVC(kernel='linear', C=C)\n",
        "    model.fit(X_scaled, y)\n",
        "\n",
        "    # Plot decision boundary\n",
        "    plt.subplot(2, 3, i+1)\n",
        "    plt.title(f\"SVM with C = {C}\")\n",
        "\n",
        "    # Create mesh grid\n",
        "    x_min, x_max = X_scaled[:, 0].min() - 1, X_scaled[:, 0].max() + 1\n",
        "    y_min, y_max = X_scaled[:, 1].min() - 1, X_scaled[:, 1].max() + 1\n",
        "    xx, yy = np.meshgrid(np.linspace(x_min, x_max, 500),\n",
        "                         np.linspace(y_min, y_max, 500))\n",
        "    Z = model.predict(np.c_[xx.ravel(), yy.ravel()])\n",
        "    Z = Z.reshape(xx.shape)\n",
        "\n",
        "    # Plot contour and training points\n",
        "    plt.contourf(xx, yy, Z, cmap=plt.cm.coolwarm, alpha=0.6)\n",
        "    plt.scatter(X_scaled[:, 0], X_scaled[:, 1], c=y, cmap=plt.cm.coolwarm, edgecolors='k')\n",
        "    plt.xlabel('Sepal length')\n",
        "    plt.ylabel('Sepal width')\n",
        "\n",
        "plt.tight_layout()\n",
        "plt.suptitle(\"SVM Decision Boundaries for Different C Values\", fontsize=16, y=1.02)\n",
        "plt.show()"
      ],
      "metadata": {
        "colab": {
          "base_uri": "https://localhost:8080/",
          "height": 894
        },
        "id": "mfJtFV86eKy2",
        "outputId": "7c1dabbc-81b1-4fd0-f06f-dd5882b6aa51"
      },
      "execution_count": 7,
      "outputs": [
        {
          "output_type": "display_data",
          "data": {
            "text/plain": [
              "<Figure size 1500x1000 with 5 Axes>"
            ],
            "image/png": "[encoded data removed]"
          },
          "metadata": {}
        }
      ]
    },
    {
      "cell_type": "code",
      "source": [
        "#28 Write a Python program to train a Bernoulli Naïve Bayes classifier for binary classification on a dataset with binary features\n",
        "from sklearn.datasets import make_classification\n",
        "from sklearn.model_selection import train_test_split\n",
        "from sklearn.naive_bayes import BernoulliNB\n",
        "from sklearn.metrics import accuracy_score, classification_report\n",
        "import numpy as np\n",
        "\n",
        "# Step 1: Generate a synthetic binary feature dataset\n",
        "X, y = make_classification(n_samples=1000, n_features=20, n_informative=10,\n",
        "                           n_redundant=0, n_classes=2, random_state=42)\n",
        "\n",
        "# Step 2: Binarize the features (convert to 0s and 1s)\n",
        "X_binary = (X > 0).astype(int)\n",
        "\n",
        "# Step 3: Split the dataset into training and testing sets\n",
        "X_train, X_test, y_train, y_test = train_test_split(X_binary, y, test_size=0.2, random_state=42)\n",
        "\n",
        "# Step 4: Initialize and train the Bernoulli Naïve Bayes classifier\n",
        "bnb = BernoulliNB()\n",
        "bnb.fit(X_train, y_train)\n",
        "\n",
        "# Step 5: Make predictions on the test set\n",
        "y_pred = bnb.predict(X_test)\n",
        "\n",
        "# Step 6: Evaluate the model\n",
        "accuracy = accuracy_score(y_test, y_pred)\n",
        "print(f\"Bernoulli Naïve Bayes Accuracy: {accuracy:.2f}\\n\")\n",
        "print(\"Classification Report:\")\n",
        "print(classification_report(y_test, y_pred))"
      ],
      "metadata": {
        "colab": {
          "base_uri": "https://localhost:8080/"
        },
        "id": "DuwD99Z7eXAg",
        "outputId": "adc3a888-7a8d-49f2-8ba7-7617f0c19e09"
      },
      "execution_count": 8,
      "outputs": [
        {
          "output_type": "stream",
          "name": "stdout",
          "text": [
            "Bernoulli Naïve Bayes Accuracy: 0.76\n",
            "\n",
            "Classification Report:\n",
            "              precision    recall  f1-score   support\n",
            "\n",
            "           0       0.75      0.76      0.76       101\n",
            "           1       0.76      0.75      0.75        99\n",
            "\n",
            "    accuracy                           0.76       200\n",
            "   macro avg       0.76      0.75      0.75       200\n",
            "weighted avg       0.76      0.76      0.75       200\n",
            "\n"
          ]
        }
      ]
    },
    {
      "cell_type": "code",
      "source": [
        "#29 Write a Python program to apply feature scaling before training an SVM model and compare results with unscaled data\n",
        "from sklearn.datasets import load_breast_cancer\n",
        "from sklearn.model_selection import train_test_split\n",
        "from sklearn.svm import SVC\n",
        "from sklearn.metrics import accuracy_score\n",
        "from sklearn.preprocessing import StandardScaler\n",
        "\n",
        "# Load the dataset\n",
        "data = load_breast_cancer()\n",
        "X = data.data\n",
        "y = data.target\n",
        "\n",
        "# Split into train/test sets\n",
        "X_train, X_test, y_train, y_test = train_test_split(X, y, test_size=0.2, random_state=42)\n",
        "\n",
        "# -------- SVM WITHOUT SCALING --------\n",
        "svm_unscaled = SVC(kernel='rbf')\n",
        "svm_unscaled.fit(X_train, y_train)\n",
        "y_pred_unscaled = svm_unscaled.predict(X_test)\n",
        "acc_unscaled = accuracy_score(y_test, y_pred_unscaled)\n",
        "\n",
        "# -------- SVM WITH SCALING --------\n",
        "scaler = StandardScaler()\n",
        "X_train_scaled = scaler.fit_transform(X_train)\n",
        "X_test_scaled = scaler.transform(X_test)\n",
        "\n",
        "svm_scaled = SVC(kernel='rbf')\n",
        "svm_scaled.fit(X_train_scaled, y_train)\n",
        "y_pred_scaled = svm_scaled.predict(X_test_scaled)\n",
        "acc_scaled = accuracy_score(y_test, y_pred_scaled)\n",
        "\n",
        "# -------- Results --------\n",
        "print(f\"SVM Accuracy WITHOUT Scaling: {acc_unscaled:.2f}\")\n",
        "print(f\"SVM Accuracy WITH Scaling   : {acc_scaled:.2f}\")\n",
        "\n",
        "if acc_scaled > acc_unscaled:\n",
        "    print(\"\\n✅ Scaling significantly improved the model performance.\")\n",
        "else:\n",
        "    print(\"\\n⚠️ Scaling did not improve the performance in this case.\")"
      ],
      "metadata": {
        "colab": {
          "base_uri": "https://localhost:8080/"
        },
        "id": "0NCuzuTeef-P",
        "outputId": "beb0fa47-8a37-423c-884b-4403bcb5370a"
      },
      "execution_count": 9,
      "outputs": [
        {
          "output_type": "stream",
          "name": "stdout",
          "text": [
            "SVM Accuracy WITHOUT Scaling: 0.95\n",
            "SVM Accuracy WITH Scaling   : 0.98\n",
            "\n",
            "✅ Scaling significantly improved the model performance.\n"
          ]
        }
      ]
    },
    {
      "cell_type": "code",
      "source": [
        "#30 Write a Python program to train a Gaussian Naïve Bayes model and compare the predictions before and after Laplace Smoothing\n",
        "from sklearn.datasets import fetch_20newsgroups\n",
        "from sklearn.feature_extraction.text import CountVectorizer\n",
        "from sklearn.model_selection import train_test_split\n",
        "from sklearn.naive_bayes import MultinomialNB\n",
        "from sklearn.metrics import accuracy_score\n",
        "\n",
        "# Load a subset of the 20 Newsgroups dataset\n",
        "categories = ['sci.space', 'rec.sport.baseball']\n",
        "newsgroups = fetch_20newsgroups(subset='train', categories=categories, remove=('headers', 'footers', 'quotes'))\n",
        "\n",
        "# Convert text to count vectors\n",
        "vectorizer = CountVectorizer(binary=False)\n",
        "X = vectorizer.fit_transform(newsgroups.data)\n",
        "y = newsgroups.target\n",
        "\n",
        "# Split the dataset\n",
        "X_train, X_test, y_train, y_test = train_test_split(X, y, test_size=0.3, random_state=42)\n",
        "\n",
        "# Train MultinomialNB WITHOUT Laplace smoothing (alpha=0)\n",
        "model_no_smoothing = MultinomialNB(alpha=0.0)\n",
        "model_no_smoothing.fit(X_train, y_train)\n",
        "pred_no_smoothing = model_no_smoothing.predict(X_test)\n",
        "\n",
        "# Train MultinomialNB WITH Laplace smoothing (alpha=1.0)\n",
        "model_with_smoothing = MultinomialNB(alpha=1.0)\n",
        "model_with_smoothing.fit(X_train, y_train)\n",
        "pred_with_smoothing = model_with_smoothing.predict(X_test)\n",
        "\n",
        "# Compare accuracies\n",
        "acc_no_smoothing = accuracy_score(y_test, pred_no_smoothing)\n",
        "acc_with_smoothing = accuracy_score(y_test, pred_with_smoothing)\n",
        "\n",
        "print(f\"Accuracy WITHOUT Laplace Smoothing (alpha=0): {acc_no_smoothing:.2f}\")\n",
        "print(f\"Accuracy WITH Laplace Smoothing (alpha=1): {acc_with_smoothing:.2f}\")"
      ],
      "metadata": {
        "colab": {
          "base_uri": "https://localhost:8080/"
        },
        "id": "bCSHeRvkeuvF",
        "outputId": "43f1e638-b394-4c20-f682-2db5fa32e8c5"
      },
      "execution_count": 10,
      "outputs": [
        {
          "output_type": "stream",
          "name": "stdout",
          "text": [
            "Accuracy WITHOUT Laplace Smoothing (alpha=0): 0.56\n",
            "Accuracy WITH Laplace Smoothing (alpha=1): 0.94\n"
          ]
        },
        {
          "output_type": "stream",
          "name": "stderr",
          "text": [
            "/usr/local/lib/python3.11/dist-packages/sklearn/naive_bayes.py:898: RuntimeWarning: divide by zero encountered in log\n",
            "  self.feature_log_prob_ = np.log(smoothed_fc) - np.log(\n"
          ]
        }
      ]
    },
    {
      "cell_type": "code",
      "source": [
        "#31 Write a Python program to train an SVM Classifier and use GridSearchCV to tune the hyperparameters (C, gamma, kernel)\n",
        "from sklearn.datasets import load_iris\n",
        "from sklearn.model_selection import train_test_split, GridSearchCV\n",
        "from sklearn.svm import SVC\n",
        "from sklearn.metrics import classification_report, accuracy_score\n",
        "\n",
        "# Load the Iris dataset\n",
        "iris = load_iris()\n",
        "X = iris.data\n",
        "y = iris.target\n",
        "\n",
        "# Split the data into training and testing sets\n",
        "X_train, X_test, y_train, y_test = train_test_split(X, y, test_size=0.2, random_state=42)\n",
        "\n",
        "# Define the parameter grid\n",
        "param_grid = {\n",
        "    'C': [0.1, 1, 10],\n",
        "    'gamma': ['scale', 0.01, 0.1, 1],\n",
        "    'kernel': ['linear', 'rbf', 'poly']\n",
        "}\n",
        "\n",
        "# Initialize the SVM classifier\n",
        "svm = SVC()\n",
        "\n",
        "# Apply GridSearchCV\n",
        "grid_search = GridSearchCV(svm, param_grid, cv=5, scoring='accuracy')\n",
        "grid_search.fit(X_train, y_train)\n",
        "\n",
        "# Print best parameters and best score\n",
        "print(\"Best Parameters:\", grid_search.best_params_)\n",
        "print(\"Best Cross-Validation Accuracy: {:.2f}\".format(grid_search.best_score_))\n",
        "\n",
        "# Evaluate the best model on the test set\n",
        "best_model = grid_search.best_estimator_\n",
        "y_pred = best_model.predict(X_test)\n",
        "\n",
        "print(\"\\nTest Set Accuracy: {:.2f}\".format(accuracy_score(y_test, y_pred)))\n",
        "print(\"\\nClassification Report:\\n\")\n",
        "print(classification_report(y_test, y_pred, target_names=iris.target_names))"
      ],
      "metadata": {
        "colab": {
          "base_uri": "https://localhost:8080/"
        },
        "id": "3QhGdlFVf3Bj",
        "outputId": "5b244ef2-58d2-43de-f3c2-3e0a345782b4"
      },
      "execution_count": 11,
      "outputs": [
        {
          "output_type": "stream",
          "name": "stdout",
          "text": [
            "Best Parameters: {'C': 0.1, 'gamma': 0.1, 'kernel': 'poly'}\n",
            "Best Cross-Validation Accuracy: 0.96\n",
            "\n",
            "Test Set Accuracy: 1.00\n",
            "\n",
            "Classification Report:\n",
            "\n",
            "              precision    recall  f1-score   support\n",
            "\n",
            "      setosa       1.00      1.00      1.00        10\n",
            "  versicolor       1.00      1.00      1.00         9\n",
            "   virginica       1.00      1.00      1.00        11\n",
            "\n",
            "    accuracy                           1.00        30\n",
            "   macro avg       1.00      1.00      1.00        30\n",
            "weighted avg       1.00      1.00      1.00        30\n",
            "\n"
          ]
        }
      ]
    },
    {
      "cell_type": "code",
      "source": [
        "#32 Write a Python program to train an SVM Classifier on an imbalanced dataset and apply class weighting and check it improve accuracy\n",
        "from sklearn.datasets import make_classification\n",
        "from sklearn.model_selection import train_test_split\n",
        "from sklearn.svm import SVC\n",
        "from sklearn.metrics import accuracy_score, classification_report\n",
        "import numpy as np\n",
        "\n",
        "# Step 1: Create an imbalanced binary classification dataset\n",
        "X, y = make_classification(n_samples=1000, n_features=10, n_informative=5,\n",
        "                           n_redundant=2, n_clusters_per_class=1,\n",
        "                           weights=[0.9, 0.1], flip_y=0, random_state=42)\n",
        "\n",
        "# Step 2: Split into train and test sets\n",
        "X_train, X_test, y_train, y_test = train_test_split(X, y, test_size=0.2, random_state=42)\n",
        "\n",
        "# Step 3: Train SVM without class weighting\n",
        "svm_default = SVC(kernel='rbf', random_state=42)\n",
        "svm_default.fit(X_train, y_train)\n",
        "y_pred_default = svm_default.predict(X_test)\n",
        "\n",
        "# Step 4: Train SVM with class_weight='balanced'\n",
        "svm_weighted = SVC(kernel='rbf', class_weight='balanced', random_state=42)\n",
        "svm_weighted.fit(X_train, y_train)\n",
        "y_pred_weighted = svm_weighted.predict(X_test)\n",
        "\n",
        "# Step 5: Evaluate and compare\n",
        "print(\"=== Without Class Weighting ===\")\n",
        "print(\"Accuracy:\", accuracy_score(y_test, y_pred_default))\n",
        "print(classification_report(y_test, y_pred_default))\n",
        "\n",
        "print(\"=== With Class Weighting (Balanced) ===\")\n",
        "print(\"Accuracy:\", accuracy_score(y_test, y_pred_weighted))\n",
        "print(classification_report(y_test, y_pred_weighted))"
      ],
      "metadata": {
        "colab": {
          "base_uri": "https://localhost:8080/"
        },
        "id": "yk7zuP5qgfsk",
        "outputId": "11c1d35e-9018-445b-cc3e-1ca5a3611402"
      },
      "execution_count": 12,
      "outputs": [
        {
          "output_type": "stream",
          "name": "stdout",
          "text": [
            "=== Without Class Weighting ===\n",
            "Accuracy: 0.985\n",
            "              precision    recall  f1-score   support\n",
            "\n",
            "           0       0.98      1.00      0.99       177\n",
            "           1       1.00      0.87      0.93        23\n",
            "\n",
            "    accuracy                           0.98       200\n",
            "   macro avg       0.99      0.93      0.96       200\n",
            "weighted avg       0.99      0.98      0.98       200\n",
            "\n",
            "=== With Class Weighting (Balanced) ===\n",
            "Accuracy: 1.0\n",
            "              precision    recall  f1-score   support\n",
            "\n",
            "           0       1.00      1.00      1.00       177\n",
            "           1       1.00      1.00      1.00        23\n",
            "\n",
            "    accuracy                           1.00       200\n",
            "   macro avg       1.00      1.00      1.00       200\n",
            "weighted avg       1.00      1.00      1.00       200\n",
            "\n"
          ]
        }
      ]
    },
    {
      "cell_type": "code",
      "source": [
        "#33 Write a Python program to implement a Naïve Bayes classifier for spam detection using email data\n",
        "import pandas as pd\n",
        "from sklearn.model_selection import train_test_split\n",
        "from sklearn.feature_extraction.text import CountVectorizer\n",
        "from sklearn.naive_bayes import MultinomialNB\n",
        "from sklearn.metrics import accuracy_score, classification_report\n",
        "\n",
        "# Step 1: Load sample SMS spam dataset\n",
        "# You can download it from: https://archive.ics.uci.edu/ml/datasets/sms+spam+collection\n",
        "# For now, let's simulate loading it locally:\n",
        "url = \"https://raw.githubusercontent.com/justmarkham/pycon-2016-tutorial/master/data/sms.tsv\"\n",
        "df = pd.read_csv(url, sep='\\t', header=None, names=['label', 'message'])\n",
        "\n",
        "# Step 2: Convert labels to binary (spam=1, ham=0)\n",
        "df['label'] = df['label'].map({'ham': 0, 'spam': 1})\n",
        "\n",
        "# Step 3: Train-test split\n",
        "X_train, X_test, y_train, y_test = train_test_split(df['message'], df['label'], test_size=0.2, random_state=42)\n",
        "\n",
        "# Step 4: Convert text to numerical features using Bag-of-Words\n",
        "vectorizer = CountVectorizer(stop_words='english')\n",
        "X_train_vec = vectorizer.fit_transform(X_train)\n",
        "X_test_vec = vectorizer.transform(X_test)\n",
        "\n",
        "# Step 5: Train the Naïve Bayes classifier\n",
        "model = MultinomialNB()\n",
        "model.fit(X_train_vec, y_train)\n",
        "\n",
        "# Step 6: Predict and evaluate\n",
        "y_pred = model.predict(X_test_vec)\n",
        "accuracy = accuracy_score(y_test, y_pred)\n",
        "\n",
        "print(f\"Spam Detection Accuracy: {accuracy:.2f}\")\n",
        "print(\"\\nClassification Report:\\n\")\n",
        "print(classification_report(y_test, y_pred, target_names=[\"Ham\", \"Spam\"]))"
      ],
      "metadata": {
        "colab": {
          "base_uri": "https://localhost:8080/"
        },
        "id": "8GeOeO1Eg2qY",
        "outputId": "d0df4cc6-1ce6-4e1a-9ef0-3aa97e56930d"
      },
      "execution_count": 13,
      "outputs": [
        {
          "output_type": "stream",
          "name": "stdout",
          "text": [
            "Spam Detection Accuracy: 0.99\n",
            "\n",
            "Classification Report:\n",
            "\n",
            "              precision    recall  f1-score   support\n",
            "\n",
            "         Ham       0.99      0.99      0.99       966\n",
            "        Spam       0.97      0.95      0.96       149\n",
            "\n",
            "    accuracy                           0.99      1115\n",
            "   macro avg       0.98      0.97      0.97      1115\n",
            "weighted avg       0.99      0.99      0.99      1115\n",
            "\n"
          ]
        }
      ]
    },
    {
      "cell_type": "code",
      "source": [
        "#34 Write a Python program to train an SVM Classifier and a Naïve Bayes Classifier on the same dataset and compare their accuracy\n",
        "from sklearn.datasets import load_iris\n",
        "from sklearn.model_selection import train_test_split\n",
        "from sklearn.preprocessing import StandardScaler\n",
        "from sklearn.svm import SVC\n",
        "from sklearn.naive_bayes import GaussianNB\n",
        "from sklearn.metrics import accuracy_score, classification_report\n",
        "\n",
        "# Step 1: Load dataset\n",
        "data = load_iris()\n",
        "X, y = data.data, data.target\n",
        "\n",
        "# Step 2: Train-test split\n",
        "X_train, X_test, y_train, y_test = train_test_split(X, y, test_size=0.2, random_state=42)\n",
        "\n",
        "# Step 3: Scale data for SVM (important)\n",
        "scaler = StandardScaler()\n",
        "X_train_scaled = scaler.fit_transform(X_train)\n",
        "X_test_scaled = scaler.transform(X_test)\n",
        "\n",
        "# Step 4: Train SVM Classifier\n",
        "svm_model = SVC(kernel='rbf', random_state=42)\n",
        "svm_model.fit(X_train_scaled, y_train)\n",
        "y_pred_svm = svm_model.predict(X_test_scaled)\n",
        "\n",
        "# Step 5: Train Gaussian Naïve Bayes Classifier\n",
        "nb_model = GaussianNB()\n",
        "nb_model.fit(X_train, y_train)\n",
        "y_pred_nb = nb_model.predict(X_test)\n",
        "\n",
        "# Step 6: Evaluate and compare\n",
        "acc_svm = accuracy_score(y_test, y_pred_svm)\n",
        "acc_nb = accuracy_score(y_test, y_pred_nb)\n",
        "\n",
        "print(f\"SVM Accuracy      : {acc_svm:.2f}\")\n",
        "print(f\"Naïve Bayes Accuracy: {acc_nb:.2f}\")\n",
        "\n",
        "print(\"\\n--- SVM Classification Report ---\")\n",
        "print(classification_report(y_test, y_pred_svm, target_names=data.target_names))\n",
        "\n",
        "print(\"\\n--- Naïve Bayes Classification Report ---\")\n",
        "print(classification_report(y_test, y_pred_nb, target_names=data.target_names))"
      ],
      "metadata": {
        "colab": {
          "base_uri": "https://localhost:8080/"
        },
        "id": "EYqutNTsg2m5",
        "outputId": "1ab6ea6a-1c63-41ea-82aa-0bd9c9404a13"
      },
      "execution_count": 14,
      "outputs": [
        {
          "output_type": "stream",
          "name": "stdout",
          "text": [
            "SVM Accuracy      : 1.00\n",
            "Naïve Bayes Accuracy: 1.00\n",
            "\n",
            "--- SVM Classification Report ---\n",
            "              precision    recall  f1-score   support\n",
            "\n",
            "      setosa       1.00      1.00      1.00        10\n",
            "  versicolor       1.00      1.00      1.00         9\n",
            "   virginica       1.00      1.00      1.00        11\n",
            "\n",
            "    accuracy                           1.00        30\n",
            "   macro avg       1.00      1.00      1.00        30\n",
            "weighted avg       1.00      1.00      1.00        30\n",
            "\n",
            "\n",
            "--- Naïve Bayes Classification Report ---\n",
            "              precision    recall  f1-score   support\n",
            "\n",
            "      setosa       1.00      1.00      1.00        10\n",
            "  versicolor       1.00      1.00      1.00         9\n",
            "   virginica       1.00      1.00      1.00        11\n",
            "\n",
            "    accuracy                           1.00        30\n",
            "   macro avg       1.00      1.00      1.00        30\n",
            "weighted avg       1.00      1.00      1.00        30\n",
            "\n"
          ]
        }
      ]
    },
    {
      "cell_type": "code",
      "source": [
        "#35 Write a Python program to perform feature selection before training a Naïve Bayes classifier and compare results\n",
        "from sklearn.datasets import fetch_20newsgroups\n",
        "from sklearn.feature_extraction.text import CountVectorizer\n",
        "from sklearn.model_selection import train_test_split\n",
        "from sklearn.naive_bayes import MultinomialNB\n",
        "from sklearn.metrics import accuracy_score\n",
        "from sklearn.feature_selection import SelectKBest, chi2\n",
        "\n",
        "# Step 1: Load a subset of the 20 Newsgroups dataset\n",
        "categories = ['sci.space', 'rec.autos', 'talk.politics.misc']\n",
        "data = fetch_20newsgroups(subset='all', categories=categories, remove=('headers', 'footers', 'quotes'))\n",
        "\n",
        "# Step 2: Vectorize text using Bag-of-Words\n",
        "vectorizer = CountVectorizer(stop_words='english')\n",
        "X = vectorizer.fit_transform(data.data)\n",
        "y = data.target\n",
        "\n",
        "# Step 3: Train-test split\n",
        "X_train, X_test, y_train, y_test = train_test_split(X, y, test_size=0.3, random_state=42)\n",
        "\n",
        "# Step 4: Train Naïve Bayes on all features\n",
        "model_full = MultinomialNB()\n",
        "model_full.fit(X_train, y_train)\n",
        "y_pred_full = model_full.predict(X_test)\n",
        "acc_full = accuracy_score(y_test, y_pred_full)\n",
        "\n",
        "# Step 5: Perform feature selection using chi-squared test\n",
        "k = 1000  # keep top 1000 features\n",
        "selector = SelectKBest(score_func=chi2, k=k)\n",
        "X_train_kbest = selector.fit_transform(X_train, y_train)\n",
        "X_test_kbest = selector.transform(X_test)\n",
        "\n",
        "# Step 6: Train Naïve Bayes on selected features\n",
        "model_kbest = MultinomialNB()\n",
        "model_kbest.fit(X_train_kbest, y_train)\n",
        "y_pred_kbest = model_kbest.predict(X_test_kbest)\n",
        "acc_kbest = accuracy_score(y_test, y_pred_kbest)\n",
        "\n",
        "# Step 7: Print results\n",
        "print(f\"Accuracy WITHOUT Feature Selection: {acc_full:.2f}\")\n",
        "print(f\"Accuracy WITH Feature Selection (top {k}): {acc_kbest:.2f}\")"
      ],
      "metadata": {
        "colab": {
          "base_uri": "https://localhost:8080/"
        },
        "id": "T43cpbF1g2kF",
        "outputId": "32fac24f-b63d-4907-8a06-7154c488d0ba"
      },
      "execution_count": 15,
      "outputs": [
        {
          "output_type": "stream",
          "name": "stdout",
          "text": [
            "Accuracy WITHOUT Feature Selection: 0.88\n",
            "Accuracy WITH Feature Selection (top 1000): 0.85\n"
          ]
        }
      ]
    },
    {
      "cell_type": "code",
      "source": [
        "#36 Write a Python program to train an SVM Classifier using One-vs-Rest (OvR) and One-vs-One (OvO) strategies on the Wine dataset and compare their accuracy\n",
        "from sklearn.datasets import load_wine\n",
        "from sklearn.model_selection import train_test_split\n",
        "from sklearn.svm import SVC\n",
        "from sklearn.multiclass import OneVsRestClassifier, OneVsOneClassifier\n",
        "from sklearn.preprocessing import StandardScaler\n",
        "from sklearn.metrics import accuracy_score, classification_report\n",
        "\n",
        "# Step 1: Load Wine dataset\n",
        "wine = load_wine()\n",
        "X, y = wine.data, wine.target\n",
        "\n",
        "# Step 2: Train/test split\n",
        "X_train, X_test, y_train, y_test = train_test_split(X, y, test_size=0.2, random_state=42)\n",
        "\n",
        "# Step 3: Feature scaling (important for SVM)\n",
        "scaler = StandardScaler()\n",
        "X_train_scaled = scaler.fit_transform(X_train)\n",
        "X_test_scaled = scaler.transform(X_test)\n",
        "\n",
        "# Step 4: Train SVM using One-vs-Rest\n",
        "svm_ovr = OneVsRestClassifier(SVC(kernel='rbf', random_state=42))\n",
        "svm_ovr.fit(X_train_scaled, y_train)\n",
        "y_pred_ovr = svm_ovr.predict(X_test_scaled)\n",
        "acc_ovr = accuracy_score(y_test, y_pred_ovr)\n",
        "\n",
        "# Step 5: Train SVM using One-vs-One\n",
        "svm_ovo = OneVsOneClassifier(SVC(kernel='rbf', random_state=42))\n",
        "svm_ovo.fit(X_train_scaled, y_train)\n",
        "y_pred_ovo = svm_ovo.predict(X_test_scaled)\n",
        "acc_ovo = accuracy_score(y_test, y_pred_ovo)\n",
        "\n",
        "# Step 6: Output comparison\n",
        "print(f\"Accuracy with One-vs-Rest (OvR): {acc_ovr:.2f}\")\n",
        "print(f\"Accuracy with One-vs-One (OvO): {acc_ovo:.2f}\")\n",
        "\n",
        "print(\"\\n--- Classification Report: OvR ---\")\n",
        "print(classification_report(y_test, y_pred_ovr, target_names=wine.target_names))\n",
        "\n",
        "print(\"\\n--- Classification Report: OvO ---\")\n",
        "print(classification_report(y_test, y_pred_ovo, target_names=wine.target_names))"
      ],
      "metadata": {
        "colab": {
          "base_uri": "https://localhost:8080/"
        },
        "id": "YRAO9rK2g2Yw",
        "outputId": "a48827e1-d744-4324-e1b8-02d3d5823a4a"
      },
      "execution_count": 16,
      "outputs": [
        {
          "output_type": "stream",
          "name": "stdout",
          "text": [
            "Accuracy with One-vs-Rest (OvR): 1.00\n",
            "Accuracy with One-vs-One (OvO): 1.00\n",
            "\n",
            "--- Classification Report: OvR ---\n",
            "              precision    recall  f1-score   support\n",
            "\n",
            "     class_0       1.00      1.00      1.00        14\n",
            "     class_1       1.00      1.00      1.00        14\n",
            "     class_2       1.00      1.00      1.00         8\n",
            "\n",
            "    accuracy                           1.00        36\n",
            "   macro avg       1.00      1.00      1.00        36\n",
            "weighted avg       1.00      1.00      1.00        36\n",
            "\n",
            "\n",
            "--- Classification Report: OvO ---\n",
            "              precision    recall  f1-score   support\n",
            "\n",
            "     class_0       1.00      1.00      1.00        14\n",
            "     class_1       1.00      1.00      1.00        14\n",
            "     class_2       1.00      1.00      1.00         8\n",
            "\n",
            "    accuracy                           1.00        36\n",
            "   macro avg       1.00      1.00      1.00        36\n",
            "weighted avg       1.00      1.00      1.00        36\n",
            "\n"
          ]
        }
      ]
    },
    {
      "cell_type": "code",
      "source": [
        "#37 Write a Python program to train an SVM Classifier using Linear, Polynomial, and RBF kernels on the Breast Cancer dataset and compare their accuracy\n",
        "from sklearn.datasets import load_breast_cancer\n",
        "from sklearn.model_selection import train_test_split\n",
        "from sklearn.preprocessing import StandardScaler\n",
        "from sklearn.svm import SVC\n",
        "from sklearn.metrics import accuracy_score, classification_report\n",
        "\n",
        "# Step 1: Load the dataset\n",
        "data = load_breast_cancer()\n",
        "X, y = data.data, data.target\n",
        "\n",
        "# Step 2: Train/Test split\n",
        "X_train, X_test, y_train, y_test = train_test_split(X, y, test_size=0.2, random_state=42)\n",
        "\n",
        "# Step 3: Feature scaling\n",
        "scaler = StandardScaler()\n",
        "X_train_scaled = scaler.fit_transform(X_train)\n",
        "X_test_scaled = scaler.transform(X_test)\n",
        "\n",
        "# Step 4: Define SVM models with different kernels\n",
        "kernels = ['linear', 'poly', 'rbf']\n",
        "models = {}\n",
        "\n",
        "for kernel in kernels:\n",
        "    print(f\"\\nTraining SVM with {kernel} kernel...\")\n",
        "    model = SVC(kernel=kernel, degree=3 if kernel == 'poly' else None, random_state=42)\n",
        "    model.fit(X_train_scaled, y_train)\n",
        "    y_pred = model.predict(X_test_scaled)\n",
        "\n",
        "    acc = accuracy_score(y_test, y_pred)\n",
        "    print(f\"Accuracy with {kernel} kernel: {acc:.4f}\")\n",
        "    print(\"Classification Report:\")\n",
        "    print(classification_report(y_test, y_pred, target_names=data.target_names))\n",
        "\n",
        "    models[kernel] = acc"
      ],
      "metadata": {
        "colab": {
          "base_uri": "https://localhost:8080/",
          "height": 391
        },
        "id": "ZDPF_y1ShFyu",
        "outputId": "4be275c3-cec7-4fff-bf0f-50226b633b72"
      },
      "execution_count": 17,
      "outputs": [
        {
          "output_type": "stream",
          "name": "stdout",
          "text": [
            "\n",
            "Training SVM with linear kernel...\n"
          ]
        },
        {
          "output_type": "error",
          "ename": "InvalidParameterError",
          "evalue": "The 'degree' parameter of SVC must be an int in the range [0, inf). Got None instead.",
          "traceback": [
            "\u001b[0;31m---------------------------------------------------------------------------\u001b[0m",
            "\u001b[0;31mInvalidParameterError\u001b[0m                     Traceback (most recent call last)",
            "\u001b[0;32m/tmp/ipython-input-17-3886844460.py\u001b[0m in \u001b[0;36m<cell line: 0>\u001b[0;34m()\u001b[0m\n\u001b[1;32m     25\u001b[0m     \u001b[0mprint\u001b[0m\u001b[0;34m(\u001b[0m\u001b[0;34mf\"\\nTraining SVM with {kernel} kernel...\"\u001b[0m\u001b[0;34m)\u001b[0m\u001b[0;34m\u001b[0m\u001b[0;34m\u001b[0m\u001b[0m\n\u001b[1;32m     26\u001b[0m     \u001b[0mmodel\u001b[0m \u001b[0;34m=\u001b[0m \u001b[0mSVC\u001b[0m\u001b[0;34m(\u001b[0m\u001b[0mkernel\u001b[0m\u001b[0;34m=\u001b[0m\u001b[0mkernel\u001b[0m\u001b[0;34m,\u001b[0m \u001b[0mdegree\u001b[0m\u001b[0;34m=\u001b[0m\u001b[0;36m3\u001b[0m \u001b[0;32mif\u001b[0m \u001b[0mkernel\u001b[0m \u001b[0;34m==\u001b[0m \u001b[0;34m'poly'\u001b[0m \u001b[0;32melse\u001b[0m \u001b[0;32mNone\u001b[0m\u001b[0;34m,\u001b[0m \u001b[0mrandom_state\u001b[0m\u001b[0;34m=\u001b[0m\u001b[0;36m42\u001b[0m\u001b[0;34m)\u001b[0m\u001b[0;34m\u001b[0m\u001b[0;34m\u001b[0m\u001b[0m\n\u001b[0;32m---> 27\u001b[0;31m     \u001b[0mmodel\u001b[0m\u001b[0;34m.\u001b[0m\u001b[0mfit\u001b[0m\u001b[0;34m(\u001b[0m\u001b[0mX_train_scaled\u001b[0m\u001b[0;34m,\u001b[0m \u001b[0my_train\u001b[0m\u001b[0;34m)\u001b[0m\u001b[0;34m\u001b[0m\u001b[0;34m\u001b[0m\u001b[0m\n\u001b[0m\u001b[1;32m     28\u001b[0m     \u001b[0my_pred\u001b[0m \u001b[0;34m=\u001b[0m \u001b[0mmodel\u001b[0m\u001b[0;34m.\u001b[0m\u001b[0mpredict\u001b[0m\u001b[0;34m(\u001b[0m\u001b[0mX_test_scaled\u001b[0m\u001b[0;34m)\u001b[0m\u001b[0;34m\u001b[0m\u001b[0;34m\u001b[0m\u001b[0m\n\u001b[1;32m     29\u001b[0m \u001b[0;34m\u001b[0m\u001b[0m\n",
            "\u001b[0;32m/usr/local/lib/python3.11/dist-packages/sklearn/base.py\u001b[0m in \u001b[0;36mwrapper\u001b[0;34m(estimator, *args, **kwargs)\u001b[0m\n\u001b[1;32m   1380\u001b[0m \u001b[0;34m\u001b[0m\u001b[0m\n\u001b[1;32m   1381\u001b[0m             \u001b[0;32mif\u001b[0m \u001b[0;32mnot\u001b[0m \u001b[0mglobal_skip_validation\u001b[0m \u001b[0;32mand\u001b[0m \u001b[0;32mnot\u001b[0m \u001b[0mpartial_fit_and_fitted\u001b[0m\u001b[0;34m:\u001b[0m\u001b[0;34m\u001b[0m\u001b[0;34m\u001b[0m\u001b[0m\n\u001b[0;32m-> 1382\u001b[0;31m                 \u001b[0mestimator\u001b[0m\u001b[0;34m.\u001b[0m\u001b[0m_validate_params\u001b[0m\u001b[0;34m(\u001b[0m\u001b[0;34m)\u001b[0m\u001b[0;34m\u001b[0m\u001b[0;34m\u001b[0m\u001b[0m\n\u001b[0m\u001b[1;32m   1383\u001b[0m \u001b[0;34m\u001b[0m\u001b[0m\n\u001b[1;32m   1384\u001b[0m             with config_context(\n",
            "\u001b[0;32m/usr/local/lib/python3.11/dist-packages/sklearn/base.py\u001b[0m in \u001b[0;36m_validate_params\u001b[0;34m(self)\u001b[0m\n\u001b[1;32m    434\u001b[0m         \u001b[0maccepted\u001b[0m \u001b[0mconstraints\u001b[0m\u001b[0;34m.\u001b[0m\u001b[0;34m\u001b[0m\u001b[0;34m\u001b[0m\u001b[0m\n\u001b[1;32m    435\u001b[0m         \"\"\"\n\u001b[0;32m--> 436\u001b[0;31m         validate_parameter_constraints(\n\u001b[0m\u001b[1;32m    437\u001b[0m             \u001b[0mself\u001b[0m\u001b[0;34m.\u001b[0m\u001b[0m_parameter_constraints\u001b[0m\u001b[0;34m,\u001b[0m\u001b[0;34m\u001b[0m\u001b[0;34m\u001b[0m\u001b[0m\n\u001b[1;32m    438\u001b[0m             \u001b[0mself\u001b[0m\u001b[0;34m.\u001b[0m\u001b[0mget_params\u001b[0m\u001b[0;34m(\u001b[0m\u001b[0mdeep\u001b[0m\u001b[0;34m=\u001b[0m\u001b[0;32mFalse\u001b[0m\u001b[0;34m)\u001b[0m\u001b[0;34m,\u001b[0m\u001b[0;34m\u001b[0m\u001b[0;34m\u001b[0m\u001b[0m\n",
            "\u001b[0;32m/usr/local/lib/python3.11/dist-packages/sklearn/utils/_param_validation.py\u001b[0m in \u001b[0;36mvalidate_parameter_constraints\u001b[0;34m(parameter_constraints, params, caller_name)\u001b[0m\n\u001b[1;32m     96\u001b[0m                 )\n\u001b[1;32m     97\u001b[0m \u001b[0;34m\u001b[0m\u001b[0m\n\u001b[0;32m---> 98\u001b[0;31m             raise InvalidParameterError(\n\u001b[0m\u001b[1;32m     99\u001b[0m                 \u001b[0;34mf\"The {param_name!r} parameter of {caller_name} must be\"\u001b[0m\u001b[0;34m\u001b[0m\u001b[0;34m\u001b[0m\u001b[0m\n\u001b[1;32m    100\u001b[0m                 \u001b[0;34mf\" {constraints_str}. Got {param_val!r} instead.\"\u001b[0m\u001b[0;34m\u001b[0m\u001b[0;34m\u001b[0m\u001b[0m\n",
            "\u001b[0;31mInvalidParameterError\u001b[0m: The 'degree' parameter of SVC must be an int in the range [0, inf). Got None instead."
          ]
        }
      ]
    },
    {
      "cell_type": "code",
      "source": [
        "#38 Write a Python program to train an SVM Classifier using Stratified K-Fold Cross-Validation and compute the average accuracy\n",
        "from sklearn.datasets import load_breast_cancer\n",
        "from sklearn.model_selection import StratifiedKFold\n",
        "from sklearn.svm import SVC\n",
        "from sklearn.preprocessing import StandardScaler\n",
        "from sklearn.metrics import accuracy_score\n",
        "import numpy as np\n",
        "\n",
        "# Step 1: Load the dataset\n",
        "data = load_breast_cancer()\n",
        "X, y = data.data, data.target\n",
        "\n",
        "# Step 2: Initialize Stratified K-Fold Cross-Validator\n",
        "k = 5\n",
        "skf = StratifiedKFold(n_splits=k, shuffle=True, random_state=42)\n",
        "\n",
        "# Step 3: Initialize scaler and model\n",
        "scaler = StandardScaler()\n",
        "svm_model = SVC(kernel='rbf', random_state=42)\n",
        "\n",
        "accuracies = []\n",
        "\n",
        "# Step 4: Perform Stratified K-Fold Cross-Validation\n",
        "for fold, (train_index, test_index) in enumerate(skf.split(X, y), 1):\n",
        "    X_train, X_test = X[train_index], X[test_index]\n",
        "    y_train, y_test = y[train_index], y[test_index]\n",
        "\n",
        "    # Scale features\n",
        "    X_train_scaled = scaler.fit_transform(X_train)\n",
        "    X_test_scaled = scaler.transform(X_test)\n",
        "\n",
        "    # Train and evaluate model\n",
        "    svm_model.fit(X_train_scaled, y_train)\n",
        "    y_pred = svm_model.predict(X_test_scaled)\n",
        "    acc = accuracy_score(y_test, y_pred)\n",
        "    accuracies.append(acc)\n",
        "\n",
        "    print(f\"Fold {fold} Accuracy: {acc:.4f}\")\n",
        "\n",
        "# Step 5: Compute average accuracy\n",
        "avg_accuracy = np.mean(accuracies)\n",
        "print(f\"\\n✅ Average Accuracy across {k} folds: {avg_accuracy:.4f}\")"
      ],
      "metadata": {
        "colab": {
          "base_uri": "https://localhost:8080/"
        },
        "id": "p8iBN-dPhFvK",
        "outputId": "7d2b5618-8b7c-4049-d7e4-8535e116871a"
      },
      "execution_count": 18,
      "outputs": [
        {
          "output_type": "stream",
          "name": "stdout",
          "text": [
            "Fold 1 Accuracy: 0.9912\n",
            "Fold 2 Accuracy: 0.9474\n",
            "Fold 3 Accuracy: 0.9737\n",
            "Fold 4 Accuracy: 0.9912\n",
            "Fold 5 Accuracy: 0.9823\n",
            "\n",
            "✅ Average Accuracy across 5 folds: 0.9772\n"
          ]
        }
      ]
    },
    {
      "cell_type": "code",
      "source": [
        "#39 Write a Python program to train a Naïve Bayes classifier using different prior probabilities and compare performance\n",
        "from sklearn.datasets import load_breast_cancer\n",
        "from sklearn.model_selection import train_test_split\n",
        "from sklearn.naive_bayes import GaussianNB\n",
        "from sklearn.metrics import accuracy_score, classification_report\n",
        "\n",
        "# Step 1: Load the dataset\n",
        "data = load_breast_cancer()\n",
        "X, y = data.data, data.target\n",
        "target_names = data.target_names\n",
        "\n",
        "# Step 2: Train-test split\n",
        "X_train, X_test, y_train, y_test = train_test_split(X, y, test_size=0.2, random_state=42)\n",
        "\n",
        "# Step 3: Define different prior probabilities\n",
        "priors_list = [\n",
        "    None,                  # Let model estimate from data\n",
        "    [0.5, 0.5],            # Equal priors\n",
        "    [0.7, 0.3],            # Biased toward class 0 (malignant)\n",
        "    [0.3, 0.7]             # Biased toward class 1 (benign)\n",
        "]\n",
        "\n",
        "# Step 4: Train and evaluate models\n",
        "for i, priors in enumerate(priors_list, start=1):\n",
        "    print(f\"\\nModel {i} - Priors: {priors}\")\n",
        "    model = GaussianNB(priors=priors)\n",
        "    model.fit(X_train, y_train)\n",
        "    y_pred = model.predict(X_test)\n",
        "\n",
        "    acc = accuracy_score(y_test, y_pred)\n",
        "    print(f\"Accuracy: {acc:.4f}\")\n",
        "    print(\"Classification Report:\")\n",
        "    print(classification_report(y_test, y_pred, target_names=target_names))"
      ],
      "metadata": {
        "colab": {
          "base_uri": "https://localhost:8080/"
        },
        "id": "e0_mDR7uhFsA",
        "outputId": "b4a4518b-1463-49d7-c618-4039e6585418"
      },
      "execution_count": 19,
      "outputs": [
        {
          "output_type": "stream",
          "name": "stdout",
          "text": [
            "\n",
            "Model 1 - Priors: None\n",
            "Accuracy: 0.9737\n",
            "Classification Report:\n",
            "              precision    recall  f1-score   support\n",
            "\n",
            "   malignant       1.00      0.93      0.96        43\n",
            "      benign       0.96      1.00      0.98        71\n",
            "\n",
            "    accuracy                           0.97       114\n",
            "   macro avg       0.98      0.97      0.97       114\n",
            "weighted avg       0.97      0.97      0.97       114\n",
            "\n",
            "\n",
            "Model 2 - Priors: [0.5, 0.5]\n",
            "Accuracy: 0.9737\n",
            "Classification Report:\n",
            "              precision    recall  f1-score   support\n",
            "\n",
            "   malignant       1.00      0.93      0.96        43\n",
            "      benign       0.96      1.00      0.98        71\n",
            "\n",
            "    accuracy                           0.97       114\n",
            "   macro avg       0.98      0.97      0.97       114\n",
            "weighted avg       0.97      0.97      0.97       114\n",
            "\n",
            "\n",
            "Model 3 - Priors: [0.7, 0.3]\n",
            "Accuracy: 0.9649\n",
            "Classification Report:\n",
            "              precision    recall  f1-score   support\n",
            "\n",
            "   malignant       0.98      0.93      0.95        43\n",
            "      benign       0.96      0.99      0.97        71\n",
            "\n",
            "    accuracy                           0.96       114\n",
            "   macro avg       0.97      0.96      0.96       114\n",
            "weighted avg       0.97      0.96      0.96       114\n",
            "\n",
            "\n",
            "Model 4 - Priors: [0.3, 0.7]\n",
            "Accuracy: 0.9649\n",
            "Classification Report:\n",
            "              precision    recall  f1-score   support\n",
            "\n",
            "   malignant       1.00      0.91      0.95        43\n",
            "      benign       0.95      1.00      0.97        71\n",
            "\n",
            "    accuracy                           0.96       114\n",
            "   macro avg       0.97      0.95      0.96       114\n",
            "weighted avg       0.97      0.96      0.96       114\n",
            "\n"
          ]
        }
      ]
    },
    {
      "cell_type": "code",
      "source": [
        "#40 Write a Python program to perform Recursive Feature Elimination (RFE) before training an SVM Classifier and compare accuracy\n",
        "from sklearn.datasets import load_breast_cancer\n",
        "from sklearn.model_selection import train_test_split\n",
        "from sklearn.preprocessing import StandardScaler\n",
        "from sklearn.svm import SVC\n",
        "from sklearn.feature_selection import RFE\n",
        "from sklearn.metrics import accuracy_score\n",
        "\n",
        "# Step 1: Load dataset\n",
        "data = load_breast_cancer()\n",
        "X, y = data.data, data.target\n",
        "feature_names = data.feature_names\n",
        "\n",
        "# Step 2: Train-test split\n",
        "X_train, X_test, y_train, y_test = train_test_split(X, y, test_size=0.2, random_state=42)\n",
        "\n",
        "# Step 3: Feature scaling\n",
        "scaler = StandardScaler()\n",
        "X_train_scaled = scaler.fit_transform(X_train)\n",
        "X_test_scaled = scaler.transform(X_test)\n",
        "\n",
        "# Step 4: Train SVM without feature elimination\n",
        "svm_full = SVC(kernel='linear', random_state=42)\n",
        "svm_full.fit(X_train_scaled, y_train)\n",
        "y_pred_full = svm_full.predict(X_test_scaled)\n",
        "acc_full = accuracy_score(y_test, y_pred_full)\n",
        "\n",
        "# Step 5: Perform Recursive Feature Elimination (RFE)\n",
        "rfe = RFE(estimator=SVC(kernel='linear'), n_features_to_select=10)\n",
        "X_train_rfe = rfe.fit_transform(X_train_scaled, y_train)\n",
        "X_test_rfe = rfe.transform(X_test_scaled)\n",
        "\n",
        "# Step 6: Train SVM on selected features\n",
        "svm_rfe = SVC(kernel='linear', random_state=42)\n",
        "svm_rfe.fit(X_train_rfe, y_train)\n",
        "y_pred_rfe = svm_rfe.predict(X_test_rfe)\n",
        "acc_rfe = accuracy_score(y_test, y_pred_rfe)\n",
        "\n",
        "# Step 7: Report Results\n",
        "print(f\"Accuracy WITHOUT RFE (All Features): {acc_full:.4f}\")\n",
        "print(f\"Accuracy WITH RFE (10 Features):     {acc_rfe:.4f}\")\n",
        "\n",
        "# Optional: Show selected feature names\n",
        "selected_features = feature_names[rfe.get_support()]\n",
        "print(\"\\nSelected Features by RFE:\")\n",
        "for feat in selected_features:\n",
        "    print(f\"- {feat}\")"
      ],
      "metadata": {
        "colab": {
          "base_uri": "https://localhost:8080/"
        },
        "id": "xRuClCbIhFnS",
        "outputId": "b2d012ca-671d-4169-ee64-040efcb3755a"
      },
      "execution_count": 20,
      "outputs": [
        {
          "output_type": "stream",
          "name": "stdout",
          "text": [
            "Accuracy WITHOUT RFE (All Features): 0.9561\n",
            "Accuracy WITH RFE (10 Features):     0.9737\n",
            "\n",
            "Selected Features by RFE:\n",
            "- mean compactness\n",
            "- mean concavity\n",
            "- mean concave points\n",
            "- radius error\n",
            "- area error\n",
            "- fractal dimension error\n",
            "- worst radius\n",
            "- worst texture\n",
            "- worst area\n",
            "- worst fractal dimension\n"
          ]
        }
      ]
    },
    {
      "cell_type": "code",
      "source": [
        "#41 Write a Python program to train an SVM Classifier and evaluate its performance using Precision, Recall, and F1-Score instead of accuracy\n",
        "from sklearn.datasets import load_breast_cancer\n",
        "from sklearn.model_selection import train_test_split\n",
        "from sklearn.preprocessing import StandardScaler\n",
        "from sklearn.svm import SVC\n",
        "from sklearn.metrics import classification_report, precision_score, recall_score, f1_score\n",
        "\n",
        "# Step 1: Load dataset\n",
        "data = load_breast_cancer()\n",
        "X, y = data.data, data.target\n",
        "target_names = data.target_names\n",
        "\n",
        "# Step 2: Split dataset\n",
        "X_train, X_test, y_train, y_test = train_test_split(X, y, test_size=0.2, random_state=42)\n",
        "\n",
        "# Step 3: Scale features\n",
        "scaler = StandardScaler()\n",
        "X_train_scaled = scaler.fit_transform(X_train)\n",
        "X_test_scaled = scaler.transform(X_test)\n",
        "\n",
        "# Step 4: Train SVM model\n",
        "svm = SVC(kernel='rbf', random_state=42)\n",
        "svm.fit(X_train_scaled, y_train)\n",
        "y_pred = svm.predict(X_test_scaled)\n",
        "\n",
        "# Step 5: Evaluate using Precision, Recall, and F1-Score\n",
        "print(\"=== Classification Report ===\")\n",
        "print(classification_report(y_test, y_pred, target_names=target_names))\n",
        "\n",
        "# Optional: Print macro and weighted averages manually\n",
        "precision = precision_score(y_test, y_pred, average='weighted')\n",
        "recall = recall_score(y_test, y_pred, average='weighted')\n",
        "f1 = f1_score(y_test, y_pred, average='weighted')\n",
        "\n",
        "print(\"=== Summary ===\")\n",
        "print(f\"Precision (weighted): {precision:.4f}\")\n",
        "print(f\"Recall (weighted):    {recall:.4f}\")\n",
        "print(f\"F1-Score (weighted):  {f1:.4f}\")"
      ],
      "metadata": {
        "colab": {
          "base_uri": "https://localhost:8080/"
        },
        "id": "RNEVYtNhhFjz",
        "outputId": "cedb87b9-a629-473a-b0ef-b0f4ea8393a7"
      },
      "execution_count": 21,
      "outputs": [
        {
          "output_type": "stream",
          "name": "stdout",
          "text": [
            "=== Classification Report ===\n",
            "              precision    recall  f1-score   support\n",
            "\n",
            "   malignant       1.00      0.95      0.98        43\n",
            "      benign       0.97      1.00      0.99        71\n",
            "\n",
            "    accuracy                           0.98       114\n",
            "   macro avg       0.99      0.98      0.98       114\n",
            "weighted avg       0.98      0.98      0.98       114\n",
            "\n",
            "=== Summary ===\n",
            "Precision (weighted): 0.9829\n",
            "Recall (weighted):    0.9825\n",
            "F1-Score (weighted):  0.9824\n"
          ]
        }
      ]
    },
    {
      "cell_type": "code",
      "source": [
        "#42 Write a Python program to train a Naïve Bayes Classifier and evaluate its performance using Log Loss (Cross-Entropy Loss)\n",
        "from sklearn.datasets import load_breast_cancer\n",
        "from sklearn.model_selection import train_test_split\n",
        "from sklearn.naive_bayes import GaussianNB\n",
        "from sklearn.metrics import log_loss\n",
        "\n",
        "# Step 1: Load dataset\n",
        "data = load_breast_cancer()\n",
        "X, y = data.data, data.target\n",
        "\n",
        "# Step 2: Train-test split\n",
        "X_train, X_test, y_train, y_test = train_test_split(X, y, test_size=0.2, random_state=42)\n",
        "\n",
        "# Step 3: Train Naïve Bayes model\n",
        "model = GaussianNB()\n",
        "model.fit(X_train, y_train)\n",
        "\n",
        "# Step 4: Predict probabilities (not labels)\n",
        "y_proba = model.predict_proba(X_test)\n",
        "\n",
        "# Step 5: Evaluate using Log Loss\n",
        "loss = log_loss(y_test, y_proba)\n",
        "print(f\"Log Loss (Cross-Entropy): {loss:.4f}\")"
      ],
      "metadata": {
        "colab": {
          "base_uri": "https://localhost:8080/"
        },
        "id": "yhmw7BGWhFfr",
        "outputId": "4768982e-edc3-4214-d186-ae93a7b4b183"
      },
      "execution_count": 22,
      "outputs": [
        {
          "output_type": "stream",
          "name": "stdout",
          "text": [
            "Log Loss (Cross-Entropy): 0.2037\n"
          ]
        }
      ]
    },
    {
      "cell_type": "code",
      "source": [
        "#43 Write a Python program to train an SVM Classifier and visualize the Confusion Matrix using seaborn\n",
        "import seaborn as sns\n",
        "import matplotlib.pyplot as plt\n",
        "from sklearn.datasets import load_breast_cancer\n",
        "from sklearn.model_selection import train_test_split\n",
        "from sklearn.preprocessing import StandardScaler\n",
        "from sklearn.svm import SVC\n",
        "from sklearn.metrics import confusion_matrix, classification_report\n",
        "\n",
        "# Step 1: Load dataset\n",
        "data = load_breast_cancer()\n",
        "X, y = data.data, data.target\n",
        "labels = data.target_names\n",
        "\n",
        "# Step 2: Split and scale data\n",
        "X_train, X_test, y_train, y_test = train_test_split(X, y, test_size=0.2, random_state=42)\n",
        "scaler = StandardScaler()\n",
        "X_train_scaled = scaler.fit_transform(X_train)\n",
        "X_test_scaled = scaler.transform(X_test)\n",
        "\n",
        "# Step 3: Train SVM classifier\n",
        "svm = SVC(kernel='rbf', random_state=42)\n",
        "svm.fit(X_train_scaled, y_train)\n",
        "y_pred = svm.predict(X_test_scaled)\n",
        "\n",
        "# Step 4: Compute confusion matrix\n",
        "cm = confusion_matrix(y_test, y_pred)\n",
        "\n",
        "# Step 5: Visualize confusion matrix using seaborn\n",
        "plt.figure(figsize=(6, 4))\n",
        "sns.heatmap(cm, annot=True, fmt='d', cmap='Blues',\n",
        "            xticklabels=labels, yticklabels=labels)\n",
        "plt.title(\"Confusion Matrix - SVM\")\n",
        "plt.xlabel(\"Predicted Label\")\n",
        "plt.ylabel(\"True Label\")\n",
        "plt.tight_layout()\n",
        "plt.show()\n",
        "\n",
        "# Step 6: Optional - Print classification report\n",
        "print(\"Classification Report:\\n\")\n",
        "print(classification_report(y_test, y_pred, target_names=labels))"
      ],
      "metadata": {
        "colab": {
          "base_uri": "https://localhost:8080/",
          "height": 598
        },
        "id": "PAH5GL_lhFXn",
        "outputId": "2ae9dd03-5e71-47c3-8bd6-7da8c5cf6a77"
      },
      "execution_count": 23,
      "outputs": [
        {
          "output_type": "display_data",
          "data": {
            "text/plain": [
              "<Figure size 600x400 with 2 Axes>"
            ],
            "image/png": "[encoded data removed]"
          },
          "metadata": {}
        },
        {
          "output_type": "stream",
          "name": "stdout",
          "text": [
            "Classification Report:\n",
            "\n",
            "              precision    recall  f1-score   support\n",
            "\n",
            "   malignant       1.00      0.95      0.98        43\n",
            "      benign       0.97      1.00      0.99        71\n",
            "\n",
            "    accuracy                           0.98       114\n",
            "   macro avg       0.99      0.98      0.98       114\n",
            "weighted avg       0.98      0.98      0.98       114\n",
            "\n"
          ]
        }
      ]
    },
    {
      "cell_type": "code",
      "source": [
        "#44 Write a Python program to train an SVM Regressor (SVR) and evaluate its performance using Mean Absolute Error (MAE) instead of MS\n",
        "from sklearn.datasets import fetch_california_housing\n",
        "from sklearn.model_selection import train_test_split\n",
        "from sklearn.svm import SVR\n",
        "from sklearn.preprocessing import StandardScaler\n",
        "from sklearn.metrics import mean_absolute_error\n",
        "\n",
        "# Step 1: Load a regression dataset\n",
        "data = fetch_california_housing()\n",
        "X, y = data.data, data.target\n",
        "\n",
        "# Step 2: Train-test split\n",
        "X_train, X_test, y_train, y_test = train_test_split(X, y, test_size=0.2, random_state=42)\n",
        "\n",
        "# Step 3: Feature scaling (important for SVR)\n",
        "scaler = StandardScaler()\n",
        "X_train_scaled = scaler.fit_transform(X_train)\n",
        "X_test_scaled = scaler.transform(X_test)\n",
        "\n",
        "# Step 4: Train the SVR model\n",
        "svr = SVR(kernel='rbf')  # You can try 'linear' or 'poly' too\n",
        "svr.fit(X_train_scaled, y_train)\n",
        "\n",
        "# Step 5: Make predictions\n",
        "y_pred = svr.predict(X_test_scaled)\n",
        "\n",
        "# Step 6: Evaluate using Mean Absolute Error\n",
        "mae = mean_absolute_error(y_test, y_pred)\n",
        "print(f\"Mean Absolute Error (MAE): {mae:.4f}\")"
      ],
      "metadata": {
        "colab": {
          "base_uri": "https://localhost:8080/"
        },
        "id": "rYh1W2enhl2R",
        "outputId": "6f2e6ab1-cac5-4e4f-ace3-40979cb71106"
      },
      "execution_count": 24,
      "outputs": [
        {
          "output_type": "stream",
          "name": "stdout",
          "text": [
            "Mean Absolute Error (MAE): 0.3986\n"
          ]
        }
      ]
    },
    {
      "cell_type": "code",
      "source": [
        "#45 Write a Python program to train a Naïve Bayes classifier and evaluate its performance using the ROC-AUC score\n",
        "from sklearn.datasets import load_breast_cancer\n",
        "from sklearn.model_selection import train_test_split\n",
        "from sklearn.naive_bayes import GaussianNB\n",
        "from sklearn.metrics import roc_auc_score, roc_curve\n",
        "import matplotlib.pyplot as plt\n",
        "\n",
        "# Step 1: Load dataset\n",
        "data = load_breast_cancer()\n",
        "X, y = data.data, data.target\n",
        "\n",
        "# Step 2: Train-test split\n",
        "X_train, X_test, y_train, y_test = train_test_split(X, y, test_size=0.2, random_state=42)\n",
        "\n",
        "# Step 3: Train Naïve Bayes model\n",
        "model = GaussianNB()\n",
        "model.fit(X_train, y_train)\n",
        "\n",
        "# Step 4: Predict probabilities for positive class\n",
        "y_proba = model.predict_proba(X_test)[:, 1]\n",
        "\n",
        "# Step 5: Calculate ROC-AUC score\n",
        "roc_auc = roc_auc_score(y_test, y_proba)\n",
        "print(f\"ROC-AUC Score: {roc_auc:.4f}\")\n",
        "\n",
        "# Step 6: Optional - Plot ROC Curve\n",
        "fpr, tpr, thresholds = roc_curve(y_test, y_proba)\n",
        "plt.figure()\n",
        "plt.plot(fpr, tpr, label=f'Naïve Bayes (AUC = {roc_auc:.4f})')\n",
        "plt.plot([0, 1], [0, 1], 'k--')  # diagonal line\n",
        "plt.xlabel('False Positive Rate')\n",
        "plt.ylabel('True Positive Rate')\n",
        "plt.title('ROC Curve')\n",
        "plt.legend(loc='lower right')\n",
        "plt.show()"
      ],
      "metadata": {
        "colab": {
          "base_uri": "https://localhost:8080/",
          "height": 489
        },
        "id": "QtpbX93Shttk",
        "outputId": "5ac0542b-ffa6-4471-c280-a167a7ae69fd"
      },
      "execution_count": 25,
      "outputs": [
        {
          "output_type": "stream",
          "name": "stdout",
          "text": [
            "ROC-AUC Score: 0.9984\n"
          ]
        },
        {
          "output_type": "display_data",
          "data": {
            "text/plain": [
              "<Figure size 640x480 with 1 Axes>"
            ],
            "image/png": "[encoded data removed]"
          },
          "metadata": {}
        }
      ]
    },
    {
      "cell_type": "code",
      "source": [
        "#46 Write a Python program to train an SVM Classifier and visualize the Precision-Recall Curve\n",
        "import matplotlib.pyplot as plt\n",
        "from sklearn.datasets import load_breast_cancer\n",
        "from sklearn.model_selection import train_test_split\n",
        "from sklearn.preprocessing import StandardScaler\n",
        "from sklearn.svm import SVC\n",
        "from sklearn.metrics import precision_recall_curve, average_precision_score\n",
        "\n",
        "# Step 1: Load dataset\n",
        "data = load_breast_cancer()\n",
        "X, y = data.data, data.target\n",
        "\n",
        "# Step 2: Train-test split\n",
        "X_train, X_test, y_train, y_test = train_test_split(X, y, test_size=0.2, random_state=42)\n",
        "\n",
        "# Step 3: Scale features\n",
        "scaler = StandardScaler()\n",
        "X_train_scaled = scaler.fit_transform(X_train)\n",
        "X_test_scaled = scaler.transform(X_test)\n",
        "\n",
        "# Step 4: Train SVM with probability estimates enabled\n",
        "svm = SVC(kernel='rbf', probability=True, random_state=42)\n",
        "svm.fit(X_train_scaled, y_train)\n",
        "\n",
        "# Step 5: Predict probabilities for positive class\n",
        "y_scores = svm.predict_proba(X_test_scaled)[:, 1]\n",
        "\n",
        "# Step 6: Compute precision, recall, thresholds\n",
        "precision, recall, thresholds = precision_recall_curve(y_test, y_scores)\n",
        "avg_precision = average_precision_score(y_test, y_scores)\n",
        "\n",
        "# Step 7: Plot Precision-Recall curve\n",
        "plt.figure(figsize=(8,6))\n",
        "plt.plot(recall, precision, label=f'Avg Precision = {avg_precision:.4f}')\n",
        "plt.xlabel('Recall')\n",
        "plt.ylabel('Precision')\n",
        "plt.title('Precision-Recall Curve for SVM Classifier')\n",
        "plt.legend(loc='lower left')\n",
        "plt.grid(True)\n",
        "plt.show()"
      ],
      "metadata": {
        "colab": {
          "base_uri": "https://localhost:8080/",
          "height": 564
        },
        "id": "vhqVLNU9hwc3",
        "outputId": "9fdcb0dc-61bb-435f-e4ff-0c9c3aba22f8"
      },
      "execution_count": 26,
      "outputs": [
        {
          "output_type": "display_data",
          "data": {
            "text/plain": [
              "<Figure size 800x600 with 1 Axes>"
            ],
            "image/png": "[encoded data removed]"
          },
          "metadata": {}
        }
      ]
    },
    {
      "cell_type": "code",
      "source": [],
      "metadata": {
        "id": "_NLxV2_zpxSY"
      },
      "execution_count": null,
      "outputs": []
    }
  ]
}